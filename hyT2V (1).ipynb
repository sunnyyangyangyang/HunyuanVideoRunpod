{
  "nbformat": 4,
  "nbformat_minor": 0,
  "metadata": {
    "colab": {
      "provenance": [],
      "gpuType": "T4"
    },
    "kernelspec": {
      "name": "python3",
      "display_name": "Python 3"
    },
    "language_info": {
      "name": "python"
    },
    "accelerator": "GPU"
  },
  "cells": [
    {
      "cell_type": "code",
      "source": [
        "# Set root path\n",
        "root=\"/content\"  # Change to \"/content\" if needed\n",
        "\n",
        "!pip install uv\n",
        "!git lfs install\n",
        "!apt -y update -qq\n",
        "!apt -y install -qq aria2\n",
        "\n",
        "!git clone https://github.com/comfyanonymous/ComfyUI\n",
        "\n",
        "!uv pip uninstall --system torch torchvision torchaudio -q\n",
        "!uv pip install --system -r $root/ComfyUI/requirements.txt -q\n",
        "\n",
        "%cd ComfyUI\n",
        "%cd custom_nodes\n",
        "\n",
        "!git clone https://github.com/kijai/ComfyUI-HunyuanVideoWrapper\n",
        "!git clone https://github.com/crystian/ComfyUI-Crystools\n",
        "!git clone https://github.com/Kosinkadink/ComfyUI-VideoHelperSuite\n",
        "\n",
        "%cd ComfyUI-HunyuanVideoWrapper\n",
        "\n",
        "!uv pip install --system -r requirements.txt -q\n",
        "!uv pip install --system sageattention -q\n",
        "\n",
        "# Download models\n",
        "!aria2c --console-log-level=error -c -x 16 -s 16 -k 1M https://huggingface.co/openai/clip-vit-large-patch14/resolve/main/model.safetensors -d $root/ComfyUI/models/clip -o clip.safetensors\n",
        "!aria2c --console-log-level=error -c -x 16 -s 16 -k 1M https://huggingface.co/Kijai/HunyuanVideo_comfy/resolve/main/hunyuan_video_720_fp8_e4m3fn.safetensors -d $root/ComfyUI/models/unet -o transformers.safetensors\n",
        "!aria2c --console-log-level=error -c -x 16 -s 16 -k 1M https://huggingface.co/Kijai/HunyuanVideo_comfy/resolve/main/hunyuan_video_vae_bf16.safetensors -d $root/ComfyUI/models/vae -o vae.safetensors\n",
        "\n",
        "%cd $root/ComfyUI/models\n",
        "!mkdir -p LLM\n",
        "%cd LLM\n",
        "!git clone https://huggingface.co/Kijai/llava-llama-3-8b-text-encoder-tokenizer\n",
        "\n",
        "%cd $root/ComfyUI/custom_nodes\n",
        "\n",
        "!uv pip install --system -r $root/ComfyUI/custom_nodes/ComfyUI-Crystools/requirements.txt -q\n",
        "!uv pip install --system -r $root/ComfyUI/custom_nodes/ComfyUI-VideoHelperSuite/requirements.txt -q\n",
        "\n",
        "!apt install ffmpeg -y\n",
        "\n",
        "%cd $root/ComfyUI\n",
        "!python main.py --listen 0.0.0.0"
      ],
      "metadata": {
        "id": "j7KkLhNQfxvr"
      },
      "execution_count": null,
      "outputs": []
    }
  ]
}