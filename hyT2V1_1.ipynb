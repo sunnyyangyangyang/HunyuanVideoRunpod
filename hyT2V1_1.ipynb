{
 "cells": [
  {
   "cell_type": "code",
   "execution_count": null,
   "metadata": {},
   "outputs": [],
   "source": [
    "# 512x832*57-> 48Gb VRAM without quantization\n",
    "# launch and downloads takes 9 min\n",
    "# remember to set 8188 as the exposed tunnel \n",
    "# all quantization methods for transformer model are not support for CUDA arch <=89 (supported for hopper data centre GPU and 40 series rtx)\n",
    "# each video takes 6.5 minutes to generate"
   ]
  },
  {
   "cell_type": "code",
   "execution_count": null,
   "metadata": {
    "id": "j7KkLhNQfxvr"
   },
   "outputs": [],
   "source": [
    "# Set root path\n",
    "root=\"/workspace\"  # Change to \"/content\" if needed\n",
    "\n",
    "!pip install uv\n",
    "!git lfs install\n",
    "!apt -y update -qq\n",
    "!apt -y install -qq aria2\n",
    "\n",
    "!git clone https://github.com/comfyanonymous/ComfyUI\n",
    "\n",
    "!uv pip uninstall --system torch torchvision torchaudio\n",
    "!uv pip install --system -r $root/ComfyUI/requirements.txt\n",
    "# !uv pip install --system torchao\n",
    "\n",
    "%cd ComfyUI\n",
    "%cd custom_nodes\n",
    "\n",
    "!git clone https://github.com/kijai/ComfyUI-HunyuanVideoWrapper\n",
    "# !git clone https://github.com/crystian/ComfyUI-Crystools\n",
    "!git clone https://github.com/Kosinkadink/ComfyUI-VideoHelperSuite\n",
    "\n",
    "%cd ComfyUI-HunyuanVideoWrapper\n",
    "\n",
    "!uv pip install --system -r requirements.txt\n",
    "!uv pip install --system sageattention\n",
    "\n",
    "# Download models\n",
    "!aria2c --console-log-level=error -c -x 16 -s 16 -k 1M https://huggingface.co/openai/clip-vit-large-patch14/resolve/main/model.safetensors -d $root/ComfyUI/models/clip -o clip.safetensors\n",
    "!aria2c --console-log-level=error -c -x 16 -s 16 -k 1M https://huggingface.co/Kijai/HunyuanVideo_comfy/resolve/main/hunyuan_video_720_cfgdistill_fp8_e4m3fn.safetensors -d $root/ComfyUI/models/unet -o transformers.safetensors\n",
    "!aria2c --console-log-level=error -c -x 16 -s 16 -k 1M https://huggingface.co/Kijai/HunyuanVideo_comfy/resolve/main/hunyuan_video_vae_bf16.safetensors -d $root/ComfyUI/models/vae -o vae.safetensors\n",
    "\n",
    "# %cd $root/ComfyUI/models\n",
    "# !mkdir -p LLM\n",
    "# %cd LLM\n",
    "# !git clone https://huggingface.co/Kijai/llava-llama-3-8b-text-encoder-tokenizer\n",
    "\n",
    "%cd $root/ComfyUI/custom_nodes\n",
    "\n",
    "# !uv pip install --system -r $root/ComfyUI/custom_nodes/ComfyUI-Crystools/requirements.txt\n",
    "!uv pip install --system -r $root/ComfyUI/custom_nodes/ComfyUI-VideoHelperSuite/requirements.txt\n",
    "\n",
    "!apt install ffmpeg -y\n",
    "\n",
    "%cd $root/ComfyUI\n",
    "!python main.py --listen 0.0.0.0"
   ]
  }
 ],
 "metadata": {
  "accelerator": "GPU",
  "colab": {
   "authorship_tag": "ABX9TyOnE7/gp1i3B1xrPlNfQUTx",
   "gpuType": "T4",
   "provenance": []
  },
  "kernelspec": {
   "display_name": "Python 3 (ipykernel)",
   "language": "python",
   "name": "python3"
  },
  "language_info": {
   "codemirror_mode": {
    "name": "ipython",
    "version": 3
   },
   "file_extension": ".py",
   "mimetype": "text/x-python",
   "name": "python",
   "nbconvert_exporter": "python",
   "pygments_lexer": "ipython3",
   "version": "3.11.10"
  }
 },
 "nbformat": 4,
 "nbformat_minor": 4
}
